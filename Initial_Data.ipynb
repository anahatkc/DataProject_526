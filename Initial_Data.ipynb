{
 "cells": [
  {
   "cell_type": "code",
   "execution_count": 185,
   "metadata": {},
   "outputs": [],
   "source": [
    "# importing packages\n",
    "import numpy as np\n",
    "import matplotlib.pyplot as plt\n",
    "import scipy\n",
    "import seaborn as sns\n",
    "import pandas as pd\n",
    "from sklearn.decomposition import PCA\n",
    "from sklearn.cluster import KMeans\n",
    "from numpy.linalg import cond, matrix_rank, norm\n",
    "from scipy.linalg import inv, solve, det, eig, lu, eigvals\n",
    "from sklearn.metrics import confusion_matrix"
   ]
  },
  {
   "cell_type": "code",
   "execution_count": 391,
   "metadata": {},
   "outputs": [],
   "source": [
    "#importing data\n",
    "BankLend = pd.read_csv('Data/BankLend.csv')\n",
    "Consumption = pd.read_csv('Data/Consumption.csv')\n",
    "gdp_exp = pd.read_csv('Data/GDP_ExpenditureBased.csv')\n",
    "housing_starts = pd.read_csv('Data/HousingStarts.csv')\n",
    "ex_rate = pd.read_csv('Data/CEER_MONTHLY_NOMINAL-sd-1990-01-01.csv') #Canadian Effective Exchange Rate - monthly nominal\n",
    "SP_tbills = pd.read_csv('Data/s&p, tbills.csv')\n",
    "mls_xlsx = pd.ExcelFile('Data/MLS_HPI_November_2023 (1)/Seasonally Adjusted.xlsx')\n",
    "mls_agg = pd.read_excel(mls_xlsx, sheet_name='AGGREGATE')\n",
    "house_prices = pd.read_csv('Data/OECD Data.csv')"
   ]
  },
  {
   "cell_type": "code",
   "execution_count": 389,
   "metadata": {},
   "outputs": [
    {
     "ename": "KeyError",
     "evalue": "'nummonth'",
     "output_type": "error",
     "traceback": [
      "\u001b[0;31m---------------------------------------------------------------------------\u001b[0m",
      "\u001b[0;31mKeyError\u001b[0m                                  Traceback (most recent call last)",
      "File \u001b[0;32m~/opt/anaconda3/lib/python3.9/site-packages/pandas/core/indexes/base.py:3621\u001b[0m, in \u001b[0;36mIndex.get_loc\u001b[0;34m(self, key, method, tolerance)\u001b[0m\n\u001b[1;32m   3620\u001b[0m \u001b[39mtry\u001b[39;00m:\n\u001b[0;32m-> 3621\u001b[0m     \u001b[39mreturn\u001b[39;00m \u001b[39mself\u001b[39;49m\u001b[39m.\u001b[39;49m_engine\u001b[39m.\u001b[39;49mget_loc(casted_key)\n\u001b[1;32m   3622\u001b[0m \u001b[39mexcept\u001b[39;00m \u001b[39mKeyError\u001b[39;00m \u001b[39mas\u001b[39;00m err:\n",
      "File \u001b[0;32m~/opt/anaconda3/lib/python3.9/site-packages/pandas/_libs/index.pyx:136\u001b[0m, in \u001b[0;36mpandas._libs.index.IndexEngine.get_loc\u001b[0;34m()\u001b[0m\n",
      "File \u001b[0;32m~/opt/anaconda3/lib/python3.9/site-packages/pandas/_libs/index.pyx:163\u001b[0m, in \u001b[0;36mpandas._libs.index.IndexEngine.get_loc\u001b[0;34m()\u001b[0m\n",
      "File \u001b[0;32mpandas/_libs/hashtable_class_helper.pxi:5198\u001b[0m, in \u001b[0;36mpandas._libs.hashtable.PyObjectHashTable.get_item\u001b[0;34m()\u001b[0m\n",
      "File \u001b[0;32mpandas/_libs/hashtable_class_helper.pxi:5206\u001b[0m, in \u001b[0;36mpandas._libs.hashtable.PyObjectHashTable.get_item\u001b[0;34m()\u001b[0m\n",
      "\u001b[0;31mKeyError\u001b[0m: 'nummonth'",
      "\nThe above exception was the direct cause of the following exception:\n",
      "\u001b[0;31mKeyError\u001b[0m                                  Traceback (most recent call last)",
      "\u001b[1;32m/Users/anahat/Desktop/ECON 526/DataProject_526/Initial_Data.ipynb Cell 3\u001b[0m line \u001b[0;36m<cell line: 13>\u001b[0;34m()\u001b[0m\n\u001b[1;32m      <a href='vscode-notebook-cell:/Users/anahat/Desktop/ECON%20526/DataProject_526/Initial_Data.ipynb#X35sZmlsZQ%3D%3D?line=4'>5</a>\u001b[0m     \u001b[39mreturn\u001b[39;00m pd\u001b[39m.\u001b[39mSeries({\u001b[39m'\u001b[39m\u001b[39mReferencePeriod\u001b[39m\u001b[39m'\u001b[39m: group[\u001b[39m'\u001b[39m\u001b[39mReferencePeriod\u001b[39m\u001b[39m'\u001b[39m]\u001b[39m.\u001b[39miloc[\u001b[39m0\u001b[39m],\n\u001b[1;32m      <a href='vscode-notebook-cell:/Users/anahat/Desktop/ECON%20526/DataProject_526/Initial_Data.ipynb#X35sZmlsZQ%3D%3D?line=5'>6</a>\u001b[0m                       \u001b[39m'\u001b[39m\u001b[39mTotal, funds advanced, residential mortgages, insured 7\u001b[39m\u001b[39m'\u001b[39m: group[\u001b[39m'\u001b[39m\u001b[39mTotal, funds advanced, residential mortgages, insured 7\u001b[39m\u001b[39m'\u001b[39m]\u001b[39m.\u001b[39msum(),\n\u001b[1;32m      <a href='vscode-notebook-cell:/Users/anahat/Desktop/ECON%20526/DataProject_526/Initial_Data.ipynb#X35sZmlsZQ%3D%3D?line=6'>7</a>\u001b[0m                       \u001b[39m'\u001b[39m\u001b[39mTotal, funds advanced, residential mortgages, uninsured 7\u001b[39m\u001b[39m'\u001b[39m: group[\u001b[39m'\u001b[39m\u001b[39mTotal, funds advanced, residential mortgages, uninsured 7\u001b[39m\u001b[39m'\u001b[39m]\u001b[39m.\u001b[39msum(),\n\u001b[1;32m      <a href='vscode-notebook-cell:/Users/anahat/Desktop/ECON%20526/DataProject_526/Initial_Data.ipynb#X35sZmlsZQ%3D%3D?line=7'>8</a>\u001b[0m                       \u001b[39m'\u001b[39m\u001b[39mTotal, funds advanced, variable rate mortgages\u001b[39m\u001b[39m'\u001b[39m: group[\u001b[39m'\u001b[39m\u001b[39mTotal, funds advanced, variable rate mortgages\u001b[39m\u001b[39m'\u001b[39m]\u001b[39m.\u001b[39msum(),\n\u001b[1;32m      <a href='vscode-notebook-cell:/Users/anahat/Desktop/ECON%20526/DataProject_526/Initial_Data.ipynb#X35sZmlsZQ%3D%3D?line=8'>9</a>\u001b[0m                       \u001b[39m'\u001b[39m\u001b[39mTotal, funds advanced for non-mortgage loans, consumer credit\u001b[39m\u001b[39m'\u001b[39m: group[\u001b[39m'\u001b[39m\u001b[39mTotal, funds advanced for non-mortgage loans, consumer credit\u001b[39m\u001b[39m'\u001b[39m]\u001b[39m.\u001b[39msum(),\n\u001b[1;32m     <a href='vscode-notebook-cell:/Users/anahat/Desktop/ECON%20526/DataProject_526/Initial_Data.ipynb#X35sZmlsZQ%3D%3D?line=9'>10</a>\u001b[0m                       \u001b[39m'\u001b[39m\u001b[39mTotal, funds advanced, business loans 8\u001b[39m\u001b[39m'\u001b[39m: group[\u001b[39m'\u001b[39m\u001b[39mTotal, funds advanced, business loans 8\u001b[39m\u001b[39m'\u001b[39m]\u001b[39m.\u001b[39msum()})\n\u001b[1;32m     <a href='vscode-notebook-cell:/Users/anahat/Desktop/ECON%20526/DataProject_526/Initial_Data.ipynb#X35sZmlsZQ%3D%3D?line=11'>12</a>\u001b[0m \u001b[39m# Group by sets of 3 rows and average using the custom function\u001b[39;00m\n\u001b[0;32m---> <a href='vscode-notebook-cell:/Users/anahat/Desktop/ECON%20526/DataProject_526/Initial_Data.ipynb#X35sZmlsZQ%3D%3D?line=12'>13</a>\u001b[0m BL_quarter \u001b[39m=\u001b[39m BankLend\u001b[39m.\u001b[39;49mgroupby(BankLend\u001b[39m.\u001b[39;49mindex \u001b[39m/\u001b[39;49m\u001b[39m/\u001b[39;49m \u001b[39m3\u001b[39;49m)\u001b[39m.\u001b[39;49mapply(average_quarter)\u001b[39m.\u001b[39mreset_index(drop\u001b[39m=\u001b[39m\u001b[39mTrue\u001b[39;00m)\n",
      "File \u001b[0;32m~/opt/anaconda3/lib/python3.9/site-packages/pandas/core/groupby/groupby.py:1414\u001b[0m, in \u001b[0;36mGroupBy.apply\u001b[0;34m(self, func, *args, **kwargs)\u001b[0m\n\u001b[1;32m   1412\u001b[0m \u001b[39mwith\u001b[39;00m option_context(\u001b[39m\"\u001b[39m\u001b[39mmode.chained_assignment\u001b[39m\u001b[39m\"\u001b[39m, \u001b[39mNone\u001b[39;00m):\n\u001b[1;32m   1413\u001b[0m     \u001b[39mtry\u001b[39;00m:\n\u001b[0;32m-> 1414\u001b[0m         result \u001b[39m=\u001b[39m \u001b[39mself\u001b[39;49m\u001b[39m.\u001b[39;49m_python_apply_general(f, \u001b[39mself\u001b[39;49m\u001b[39m.\u001b[39;49m_selected_obj)\n\u001b[1;32m   1415\u001b[0m     \u001b[39mexcept\u001b[39;00m \u001b[39mTypeError\u001b[39;00m:\n\u001b[1;32m   1416\u001b[0m         \u001b[39m# gh-20949\u001b[39;00m\n\u001b[1;32m   1417\u001b[0m         \u001b[39m# try again, with .apply acting as a filtering\u001b[39;00m\n\u001b[0;32m   (...)\u001b[0m\n\u001b[1;32m   1421\u001b[0m         \u001b[39m# fails on *some* columns, e.g. a numeric operation\u001b[39;00m\n\u001b[1;32m   1422\u001b[0m         \u001b[39m# on a string grouper column\u001b[39;00m\n\u001b[1;32m   1424\u001b[0m         \u001b[39mwith\u001b[39;00m \u001b[39mself\u001b[39m\u001b[39m.\u001b[39m_group_selection_context():\n",
      "File \u001b[0;32m~/opt/anaconda3/lib/python3.9/site-packages/pandas/core/groupby/groupby.py:1455\u001b[0m, in \u001b[0;36mGroupBy._python_apply_general\u001b[0;34m(self, f, data, not_indexed_same)\u001b[0m\n\u001b[1;32m   1429\u001b[0m \u001b[39m@final\u001b[39m\n\u001b[1;32m   1430\u001b[0m \u001b[39mdef\u001b[39;00m \u001b[39m_python_apply_general\u001b[39m(\n\u001b[1;32m   1431\u001b[0m     \u001b[39mself\u001b[39m,\n\u001b[0;32m   (...)\u001b[0m\n\u001b[1;32m   1434\u001b[0m     not_indexed_same: \u001b[39mbool\u001b[39m \u001b[39m|\u001b[39m \u001b[39mNone\u001b[39;00m \u001b[39m=\u001b[39m \u001b[39mNone\u001b[39;00m,\n\u001b[1;32m   1435\u001b[0m ) \u001b[39m-\u001b[39m\u001b[39m>\u001b[39m DataFrame \u001b[39m|\u001b[39m Series:\n\u001b[1;32m   1436\u001b[0m     \u001b[39m\"\"\"\u001b[39;00m\n\u001b[1;32m   1437\u001b[0m \u001b[39m    Apply function f in python space\u001b[39;00m\n\u001b[1;32m   1438\u001b[0m \n\u001b[0;32m   (...)\u001b[0m\n\u001b[1;32m   1453\u001b[0m \u001b[39m        data after applying f\u001b[39;00m\n\u001b[1;32m   1454\u001b[0m \u001b[39m    \"\"\"\u001b[39;00m\n\u001b[0;32m-> 1455\u001b[0m     values, mutated \u001b[39m=\u001b[39m \u001b[39mself\u001b[39;49m\u001b[39m.\u001b[39;49mgrouper\u001b[39m.\u001b[39;49mapply(f, data, \u001b[39mself\u001b[39;49m\u001b[39m.\u001b[39;49maxis)\n\u001b[1;32m   1457\u001b[0m     \u001b[39mif\u001b[39;00m not_indexed_same \u001b[39mis\u001b[39;00m \u001b[39mNone\u001b[39;00m:\n\u001b[1;32m   1458\u001b[0m         not_indexed_same \u001b[39m=\u001b[39m mutated \u001b[39mor\u001b[39;00m \u001b[39mself\u001b[39m\u001b[39m.\u001b[39mmutated\n",
      "File \u001b[0;32m~/opt/anaconda3/lib/python3.9/site-packages/pandas/core/groupby/ops.py:761\u001b[0m, in \u001b[0;36mBaseGrouper.apply\u001b[0;34m(self, f, data, axis)\u001b[0m\n\u001b[1;32m    759\u001b[0m \u001b[39m# group might be modified\u001b[39;00m\n\u001b[1;32m    760\u001b[0m group_axes \u001b[39m=\u001b[39m group\u001b[39m.\u001b[39maxes\n\u001b[0;32m--> 761\u001b[0m res \u001b[39m=\u001b[39m f(group)\n\u001b[1;32m    762\u001b[0m \u001b[39mif\u001b[39;00m \u001b[39mnot\u001b[39;00m mutated \u001b[39mand\u001b[39;00m \u001b[39mnot\u001b[39;00m _is_indexed_like(res, group_axes, axis):\n\u001b[1;32m    763\u001b[0m     mutated \u001b[39m=\u001b[39m \u001b[39mTrue\u001b[39;00m\n",
      "\u001b[1;32m/Users/anahat/Desktop/ECON 526/DataProject_526/Initial_Data.ipynb Cell 3\u001b[0m line \u001b[0;36maverage_quarter\u001b[0;34m(group)\u001b[0m\n\u001b[1;32m      <a href='vscode-notebook-cell:/Users/anahat/Desktop/ECON%20526/DataProject_526/Initial_Data.ipynb#X35sZmlsZQ%3D%3D?line=3'>4</a>\u001b[0m \u001b[39mdef\u001b[39;00m \u001b[39maverage_quarter\u001b[39m(group):\n\u001b[0;32m----> <a href='vscode-notebook-cell:/Users/anahat/Desktop/ECON%20526/DataProject_526/Initial_Data.ipynb#X35sZmlsZQ%3D%3D?line=4'>5</a>\u001b[0m     \u001b[39mreturn\u001b[39;00m pd\u001b[39m.\u001b[39mSeries({\u001b[39m'\u001b[39m\u001b[39mnummonth\u001b[39m\u001b[39m'\u001b[39m: group[\u001b[39m'\u001b[39;49m\u001b[39mnummonth\u001b[39;49m\u001b[39m'\u001b[39;49m]\u001b[39m.\u001b[39miloc[\u001b[39m0\u001b[39m],\n\u001b[1;32m      <a href='vscode-notebook-cell:/Users/anahat/Desktop/ECON%20526/DataProject_526/Initial_Data.ipynb#X35sZmlsZQ%3D%3D?line=5'>6</a>\u001b[0m                       \u001b[39m'\u001b[39m\u001b[39msp\u001b[39m\u001b[39m'\u001b[39m: group[\u001b[39m'\u001b[39m\u001b[39msp\u001b[39m\u001b[39m'\u001b[39m]\u001b[39m.\u001b[39mmean(), \u001b[39m'\u001b[39m\u001b[39mt_bills\u001b[39m\u001b[39m'\u001b[39m: group[\u001b[39m'\u001b[39m\u001b[39mt_bills\u001b[39m\u001b[39m'\u001b[39m]\u001b[39m.\u001b[39mmean()})\n",
      "File \u001b[0;32m~/opt/anaconda3/lib/python3.9/site-packages/pandas/core/frame.py:3505\u001b[0m, in \u001b[0;36mDataFrame.__getitem__\u001b[0;34m(self, key)\u001b[0m\n\u001b[1;32m   3503\u001b[0m \u001b[39mif\u001b[39;00m \u001b[39mself\u001b[39m\u001b[39m.\u001b[39mcolumns\u001b[39m.\u001b[39mnlevels \u001b[39m>\u001b[39m \u001b[39m1\u001b[39m:\n\u001b[1;32m   3504\u001b[0m     \u001b[39mreturn\u001b[39;00m \u001b[39mself\u001b[39m\u001b[39m.\u001b[39m_getitem_multilevel(key)\n\u001b[0;32m-> 3505\u001b[0m indexer \u001b[39m=\u001b[39m \u001b[39mself\u001b[39;49m\u001b[39m.\u001b[39;49mcolumns\u001b[39m.\u001b[39;49mget_loc(key)\n\u001b[1;32m   3506\u001b[0m \u001b[39mif\u001b[39;00m is_integer(indexer):\n\u001b[1;32m   3507\u001b[0m     indexer \u001b[39m=\u001b[39m [indexer]\n",
      "File \u001b[0;32m~/opt/anaconda3/lib/python3.9/site-packages/pandas/core/indexes/base.py:3623\u001b[0m, in \u001b[0;36mIndex.get_loc\u001b[0;34m(self, key, method, tolerance)\u001b[0m\n\u001b[1;32m   3621\u001b[0m     \u001b[39mreturn\u001b[39;00m \u001b[39mself\u001b[39m\u001b[39m.\u001b[39m_engine\u001b[39m.\u001b[39mget_loc(casted_key)\n\u001b[1;32m   3622\u001b[0m \u001b[39mexcept\u001b[39;00m \u001b[39mKeyError\u001b[39;00m \u001b[39mas\u001b[39;00m err:\n\u001b[0;32m-> 3623\u001b[0m     \u001b[39mraise\u001b[39;00m \u001b[39mKeyError\u001b[39;00m(key) \u001b[39mfrom\u001b[39;00m \u001b[39merr\u001b[39;00m\n\u001b[1;32m   3624\u001b[0m \u001b[39mexcept\u001b[39;00m \u001b[39mTypeError\u001b[39;00m:\n\u001b[1;32m   3625\u001b[0m     \u001b[39m# If we have a listlike key, _check_indexing_error will raise\u001b[39;00m\n\u001b[1;32m   3626\u001b[0m     \u001b[39m#  InvalidIndexError. Otherwise we fall through and re-raise\u001b[39;00m\n\u001b[1;32m   3627\u001b[0m     \u001b[39m#  the TypeError.\u001b[39;00m\n\u001b[1;32m   3628\u001b[0m     \u001b[39mself\u001b[39m\u001b[39m.\u001b[39m_check_indexing_error(key)\n",
      "\u001b[0;31mKeyError\u001b[0m: 'nummonth'"
     ]
    }
   ],
   "source": [
    "# BANK LENDING\n",
    "\n",
    "# Summing over rows of 3 to get quarterly data\n",
    "def sum_quarter(group):\n",
    "    return pd.Series({'ReferencePeriod': group['ReferencePeriod'].iloc[0],\n",
    "                      'Total, funds advanced, residential mortgages, insured 7': group['Total, funds advanced, residential mortgages, insured 7'].sum(),\n",
    "                      'Total, funds advanced, residential mortgages, uninsured 7': group['Total, funds advanced, residential mortgages, uninsured 7'].sum(),\n",
    "                      'Total, funds advanced, variable rate mortgages': group['Total, funds advanced, variable rate mortgages'].sum(),\n",
    "                      'Total, funds advanced for non-mortgage loans, consumer credit': group['Total, funds advanced for non-mortgage loans, consumer credit'].sum(),\n",
    "                      'Total, funds advanced, business loans 8': group['Total, funds advanced, business loans 8'].sum()})\n",
    "\n",
    "# Group by sets of 3 rows and average using the custom function\n",
    "BL_quarter = BankLend.groupby(BankLend.index // 3).apply(average_quarter).reset_index(drop=True)"
   ]
  },
  {
   "cell_type": "code",
   "execution_count": 382,
   "metadata": {},
   "outputs": [
    {
     "data": {
      "text/html": [
       "<div>\n",
       "<style scoped>\n",
       "    .dataframe tbody tr th:only-of-type {\n",
       "        vertical-align: middle;\n",
       "    }\n",
       "\n",
       "    .dataframe tbody tr th {\n",
       "        vertical-align: top;\n",
       "    }\n",
       "\n",
       "    .dataframe thead th {\n",
       "        text-align: right;\n",
       "    }\n",
       "</style>\n",
       "<table border=\"1\" class=\"dataframe\">\n",
       "  <thead>\n",
       "    <tr style=\"text-align: right;\">\n",
       "      <th>Estimates</th>\n",
       "      <th>Household final consumption expenditure</th>\n",
       "    </tr>\n",
       "  </thead>\n",
       "  <tbody>\n",
       "    <tr>\n",
       "      <th>Q1 2016</th>\n",
       "      <td>285,296</td>\n",
       "    </tr>\n",
       "    <tr>\n",
       "      <th>Q2 2016</th>\n",
       "      <td>286,760</td>\n",
       "    </tr>\n",
       "    <tr>\n",
       "      <th>Q3 2016</th>\n",
       "      <td>289,033</td>\n",
       "    </tr>\n",
       "    <tr>\n",
       "      <th>Q4 2016</th>\n",
       "      <td>292,579</td>\n",
       "    </tr>\n",
       "    <tr>\n",
       "      <th>Q1 2017</th>\n",
       "      <td>296,967</td>\n",
       "    </tr>\n",
       "  </tbody>\n",
       "</table>\n",
       "</div>"
      ],
      "text/plain": [
       "Estimates Household final consumption expenditure\n",
       "Q1 2016                                   285,296\n",
       "Q2 2016                                   286,760\n",
       "Q3 2016                                   289,033\n",
       "Q4 2016                                   292,579\n",
       "Q1 2017                                   296,967"
      ]
     },
     "execution_count": 382,
     "metadata": {},
     "output_type": "execute_result"
    }
   ],
   "source": [
    "# CONSUMPTION\n",
    "\n",
    "# keeping specific columns\n",
    "filtered_cons = Consumption[Consumption['Estimates'].isin(['Household final consumption expenditure'])].reset_index(drop=True)\n",
    "\n",
    "# transposing the dataset\n",
    "cons = filtered_cons.set_index('Estimates').T\n",
    "cons.head()"
   ]
  },
  {
   "cell_type": "code",
   "execution_count": 383,
   "metadata": {},
   "outputs": [
    {
     "data": {
      "text/html": [
       "<div>\n",
       "<style scoped>\n",
       "    .dataframe tbody tr th:only-of-type {\n",
       "        vertical-align: middle;\n",
       "    }\n",
       "\n",
       "    .dataframe tbody tr th {\n",
       "        vertical-align: top;\n",
       "    }\n",
       "\n",
       "    .dataframe thead th {\n",
       "        text-align: right;\n",
       "    }\n",
       "</style>\n",
       "<table border=\"1\" class=\"dataframe\">\n",
       "  <thead>\n",
       "    <tr style=\"text-align: right;\">\n",
       "      <th>Estimates</th>\n",
       "      <th>Gross domestic product at market prices</th>\n",
       "    </tr>\n",
       "  </thead>\n",
       "  <tbody>\n",
       "    <tr>\n",
       "      <th>Q1 2016</th>\n",
       "      <td>1,949,923</td>\n",
       "    </tr>\n",
       "    <tr>\n",
       "      <th>Q2 2016</th>\n",
       "      <td>1,940,335</td>\n",
       "    </tr>\n",
       "    <tr>\n",
       "      <th>Q3 2016</th>\n",
       "      <td>1,960,344</td>\n",
       "    </tr>\n",
       "    <tr>\n",
       "      <th>Q4 2016</th>\n",
       "      <td>1,971,351</td>\n",
       "    </tr>\n",
       "    <tr>\n",
       "      <th>Q1 2017</th>\n",
       "      <td>1,992,778</td>\n",
       "    </tr>\n",
       "  </tbody>\n",
       "</table>\n",
       "</div>"
      ],
      "text/plain": [
       "Estimates Gross domestic product at market prices\n",
       "Q1 2016                                 1,949,923\n",
       "Q2 2016                                 1,940,335\n",
       "Q3 2016                                 1,960,344\n",
       "Q4 2016                                 1,971,351\n",
       "Q1 2017                                 1,992,778"
      ]
     },
     "execution_count": 383,
     "metadata": {},
     "output_type": "execute_result"
    }
   ],
   "source": [
    "# GDP \n",
    "\n",
    "# keeping specific columns\n",
    "filtered_gdp = gdp_exp[gdp_exp['Estimates'].isin(['Gross domestic product at market prices'])].reset_index(drop=True)\n",
    "\n",
    "# transposing the dataset\n",
    "gdp = filtered_gdp.set_index('Estimates').T\n",
    "gdp.head()"
   ]
  },
  {
   "cell_type": "code",
   "execution_count": 384,
   "metadata": {},
   "outputs": [
    {
     "data": {
      "text/html": [
       "<div>\n",
       "<style scoped>\n",
       "    .dataframe tbody tr th:only-of-type {\n",
       "        vertical-align: middle;\n",
       "    }\n",
       "\n",
       "    .dataframe tbody tr th {\n",
       "        vertical-align: top;\n",
       "    }\n",
       "\n",
       "    .dataframe thead th {\n",
       "        text-align: right;\n",
       "    }\n",
       "</style>\n",
       "<table border=\"1\" class=\"dataframe\">\n",
       "  <thead>\n",
       "    <tr style=\"text-align: right;\">\n",
       "      <th></th>\n",
       "      <th>date</th>\n",
       "      <th>CEER_BROADNM</th>\n",
       "    </tr>\n",
       "  </thead>\n",
       "  <tbody>\n",
       "    <tr>\n",
       "      <th>0</th>\n",
       "      <td>1999-01-01</td>\n",
       "      <td>98.053333</td>\n",
       "    </tr>\n",
       "    <tr>\n",
       "      <th>1</th>\n",
       "      <td>1999-04-01</td>\n",
       "      <td>101.366667</td>\n",
       "    </tr>\n",
       "    <tr>\n",
       "      <th>2</th>\n",
       "      <td>1999-07-01</td>\n",
       "      <td>100.096667</td>\n",
       "    </tr>\n",
       "    <tr>\n",
       "      <th>3</th>\n",
       "      <td>1999-10-01</td>\n",
       "      <td>100.486667</td>\n",
       "    </tr>\n",
       "    <tr>\n",
       "      <th>4</th>\n",
       "      <td>2000-01-01</td>\n",
       "      <td>102.433333</td>\n",
       "    </tr>\n",
       "  </tbody>\n",
       "</table>\n",
       "</div>"
      ],
      "text/plain": [
       "         date  CEER_BROADNM\n",
       "0  1999-01-01     98.053333\n",
       "1  1999-04-01    101.366667\n",
       "2  1999-07-01    100.096667\n",
       "3  1999-10-01    100.486667\n",
       "4  2000-01-01    102.433333"
      ]
     },
     "execution_count": 384,
     "metadata": {},
     "output_type": "execute_result"
    }
   ],
   "source": [
    "# EXCHANGE RATE\n",
    "\n",
    "# keeping one column\n",
    "filtered_ex_rate = ex_rate[['date','CEER_BROADNM']]\n",
    "ceer = filtered_ex_rate.reset_index(drop=True)\n",
    "\n",
    "# Averaging over rows of 3 to get quarterly data\n",
    "def average_quarter(group):\n",
    "    return pd.Series({'date': group['date'].iloc[0],\n",
    "                      'CEER_BROADNM': group['CEER_BROADNM'].mean()})\n",
    "\n",
    "# Group by sets of 3 rows and average using the custom function\n",
    "ceer_quarter = ceer.groupby(ceer.index // 3).apply(average_quarter).reset_index(drop=True)\n",
    "ceer_quarter.head()"
   ]
  },
  {
   "cell_type": "code",
   "execution_count": 393,
   "metadata": {},
   "outputs": [
    {
     "data": {
      "text/html": [
       "<div>\n",
       "<style scoped>\n",
       "    .dataframe tbody tr th:only-of-type {\n",
       "        vertical-align: middle;\n",
       "    }\n",
       "\n",
       "    .dataframe tbody tr th {\n",
       "        vertical-align: top;\n",
       "    }\n",
       "\n",
       "    .dataframe thead th {\n",
       "        text-align: right;\n",
       "    }\n",
       "</style>\n",
       "<table border=\"1\" class=\"dataframe\">\n",
       "  <thead>\n",
       "    <tr style=\"text-align: right;\">\n",
       "      <th></th>\n",
       "      <th>nummonth</th>\n",
       "      <th>sp</th>\n",
       "      <th>t_bills</th>\n",
       "    </tr>\n",
       "  </thead>\n",
       "  <tbody>\n",
       "    <tr>\n",
       "      <th>0</th>\n",
       "      <td>2013m1</td>\n",
       "      <td>36782.440000</td>\n",
       "      <td>0.953333</td>\n",
       "    </tr>\n",
       "    <tr>\n",
       "      <th>1</th>\n",
       "      <td>2013m4</td>\n",
       "      <td>36089.766667</td>\n",
       "      <td>1.010000</td>\n",
       "    </tr>\n",
       "    <tr>\n",
       "      <th>2</th>\n",
       "      <td>2013m7</td>\n",
       "      <td>37059.500000</td>\n",
       "      <td>0.990000</td>\n",
       "    </tr>\n",
       "    <tr>\n",
       "      <th>3</th>\n",
       "      <td>2013m10</td>\n",
       "      <td>39750.513333</td>\n",
       "      <td>0.916667</td>\n",
       "    </tr>\n",
       "    <tr>\n",
       "      <th>4</th>\n",
       "      <td>2014m1</td>\n",
       "      <td>41900.943333</td>\n",
       "      <td>0.876667</td>\n",
       "    </tr>\n",
       "  </tbody>\n",
       "</table>\n",
       "</div>"
      ],
      "text/plain": [
       "  nummonth            sp   t_bills\n",
       "0   2013m1  36782.440000  0.953333\n",
       "1   2013m4  36089.766667  1.010000\n",
       "2   2013m7  37059.500000  0.990000\n",
       "3  2013m10  39750.513333  0.916667\n",
       "4   2014m1  41900.943333  0.876667"
      ]
     },
     "execution_count": 393,
     "metadata": {},
     "output_type": "execute_result"
    }
   ],
   "source": [
    "# FINANCIAL INDICATORS - S&P 500 & Treasury Bills\n",
    "\n",
    "# Averaging over rows of 3 to get quarterly data\n",
    "def average_quarter(group):\n",
    "    return pd.Series({'nummonth': group['nummonth'].iloc[0],\n",
    "                      'sp': group['sp'].mean(), 't_bills': group['t_bills'].mean()})\n",
    "\n",
    "# Group by sets of 3 rows and average using the custom function\n",
    "fin_ind_quarter = SP_tbills.groupby(SP_tbills.index // 3).apply(average_quarter).reset_index(drop=True)\n",
    "fin_ind_quarter.head()"
   ]
  },
  {
   "cell_type": "code",
   "execution_count": 386,
   "metadata": {},
   "outputs": [],
   "source": [
    "# renaming to have consistent quarter names\n",
    "\n",
    "# Function to generate quarter-year labels\n",
    "def generate_quarter_labels(year, num_entries):\n",
    "    quarters = ['Q1', 'Q2', 'Q3', 'Q4']\n",
    "    return [f\"{quarters[i % 4]} {year}\" for i in range(num_entries)]\n",
    "\n",
    "# Bank Lending \n",
    "BL_quarter['ReferencePeriod'] = generate_quarter_labels(2013, len(BL_quarter['ReferencePeriod']))\n",
    "\n",
    "# Exchange Rate\n",
    "ceer_quarter['date'] = generate_quarter_labels(2013, len(ceer_quarter['date']))\n"
   ]
  },
  {
   "cell_type": "code",
   "execution_count": 402,
   "metadata": {},
   "outputs": [
    {
     "ename": "KeyError",
     "evalue": "'nummonth'",
     "output_type": "error",
     "traceback": [
      "\u001b[0;31m---------------------------------------------------------------------------\u001b[0m",
      "\u001b[0;31mKeyError\u001b[0m                                  Traceback (most recent call last)",
      "File \u001b[0;32m~/opt/anaconda3/lib/python3.9/site-packages/pandas/core/indexes/base.py:3621\u001b[0m, in \u001b[0;36mIndex.get_loc\u001b[0;34m(self, key, method, tolerance)\u001b[0m\n\u001b[1;32m   3620\u001b[0m \u001b[39mtry\u001b[39;00m:\n\u001b[0;32m-> 3621\u001b[0m     \u001b[39mreturn\u001b[39;00m \u001b[39mself\u001b[39;49m\u001b[39m.\u001b[39;49m_engine\u001b[39m.\u001b[39;49mget_loc(casted_key)\n\u001b[1;32m   3622\u001b[0m \u001b[39mexcept\u001b[39;00m \u001b[39mKeyError\u001b[39;00m \u001b[39mas\u001b[39;00m err:\n",
      "File \u001b[0;32m~/opt/anaconda3/lib/python3.9/site-packages/pandas/_libs/index.pyx:136\u001b[0m, in \u001b[0;36mpandas._libs.index.IndexEngine.get_loc\u001b[0;34m()\u001b[0m\n",
      "File \u001b[0;32m~/opt/anaconda3/lib/python3.9/site-packages/pandas/_libs/index.pyx:163\u001b[0m, in \u001b[0;36mpandas._libs.index.IndexEngine.get_loc\u001b[0;34m()\u001b[0m\n",
      "File \u001b[0;32mpandas/_libs/hashtable_class_helper.pxi:5198\u001b[0m, in \u001b[0;36mpandas._libs.hashtable.PyObjectHashTable.get_item\u001b[0;34m()\u001b[0m\n",
      "File \u001b[0;32mpandas/_libs/hashtable_class_helper.pxi:5206\u001b[0m, in \u001b[0;36mpandas._libs.hashtable.PyObjectHashTable.get_item\u001b[0;34m()\u001b[0m\n",
      "\u001b[0;31mKeyError\u001b[0m: 'nummonth'",
      "\nThe above exception was the direct cause of the following exception:\n",
      "\u001b[0;31mKeyError\u001b[0m                                  Traceback (most recent call last)",
      "\u001b[1;32m/Users/anahat/Desktop/ECON 526/DataProject_526/Initial_Data.ipynb Cell 9\u001b[0m line \u001b[0;36m<cell line: 1>\u001b[0;34m()\u001b[0m\n\u001b[0;32m----> <a href='vscode-notebook-cell:/Users/anahat/Desktop/ECON%20526/DataProject_526/Initial_Data.ipynb#X62sZmlsZQ%3D%3D?line=0'>1</a>\u001b[0m SP_tbills[\u001b[39m'\u001b[39m\u001b[39mquarter_year\u001b[39m\u001b[39m'\u001b[39m] \u001b[39m=\u001b[39m pd\u001b[39m.\u001b[39mto_datetime(SP_tbills[\u001b[39m'\u001b[39;49m\u001b[39mnummonth\u001b[39;49m\u001b[39m'\u001b[39;49m]\u001b[39m.\u001b[39mstr\u001b[39m.\u001b[39mreplace(\u001b[39m'\u001b[39m\u001b[39mm\u001b[39m\u001b[39m'\u001b[39m, \u001b[39m'\u001b[39m\u001b[39m'\u001b[39m), \u001b[39mformat\u001b[39m\u001b[39m=\u001b[39m\u001b[39m'\u001b[39m\u001b[39m%\u001b[39m\u001b[39mY\u001b[39m\u001b[39m%\u001b[39m\u001b[39mm\u001b[39m\u001b[39m'\u001b[39m)\u001b[39m.\u001b[39mdt\u001b[39m.\u001b[39mto_period(\u001b[39m'\u001b[39m\u001b[39mQ\u001b[39m\u001b[39m'\u001b[39m)\u001b[39m.\u001b[39mastype(\u001b[39mstr\u001b[39m)\n\u001b[1;32m      <a href='vscode-notebook-cell:/Users/anahat/Desktop/ECON%20526/DataProject_526/Initial_Data.ipynb#X62sZmlsZQ%3D%3D?line=1'>2</a>\u001b[0m SP_tbills[\u001b[39m'\u001b[39m\u001b[39mquarter_year\u001b[39m\u001b[39m'\u001b[39m] \u001b[39m=\u001b[39m SP_tbills[\u001b[39m'\u001b[39m\u001b[39mquarter_year\u001b[39m\u001b[39m'\u001b[39m]\u001b[39m.\u001b[39mapply(\u001b[39mlambda\u001b[39;00m x: \u001b[39mf\u001b[39m\u001b[39m\"\u001b[39m\u001b[39mQ\u001b[39m\u001b[39m{\u001b[39;00mx\u001b[39m.\u001b[39msplit(\u001b[39m'\u001b[39m\u001b[39mQ\u001b[39m\u001b[39m'\u001b[39m)[\u001b[39m1\u001b[39m]\u001b[39m}\u001b[39;00m\u001b[39m \u001b[39m\u001b[39m{\u001b[39;00mx\u001b[39m.\u001b[39msplit(\u001b[39m'\u001b[39m\u001b[39mQ\u001b[39m\u001b[39m'\u001b[39m)[\u001b[39m0\u001b[39m]\u001b[39m}\u001b[39;00m\u001b[39m\"\u001b[39m)\n\u001b[1;32m      <a href='vscode-notebook-cell:/Users/anahat/Desktop/ECON%20526/DataProject_526/Initial_Data.ipynb#X62sZmlsZQ%3D%3D?line=2'>3</a>\u001b[0m \u001b[39m# Rename the 'nummonth' column\u001b[39;00m\n\u001b[1;32m      <a href='vscode-notebook-cell:/Users/anahat/Desktop/ECON%20526/DataProject_526/Initial_Data.ipynb#X62sZmlsZQ%3D%3D?line=3'>4</a>\u001b[0m \u001b[39m#SP_tbills.rename(columns={'nummonth': 'original_column'}, inplace=True)\u001b[39;00m\n",
      "File \u001b[0;32m~/opt/anaconda3/lib/python3.9/site-packages/pandas/core/frame.py:3505\u001b[0m, in \u001b[0;36mDataFrame.__getitem__\u001b[0;34m(self, key)\u001b[0m\n\u001b[1;32m   3503\u001b[0m \u001b[39mif\u001b[39;00m \u001b[39mself\u001b[39m\u001b[39m.\u001b[39mcolumns\u001b[39m.\u001b[39mnlevels \u001b[39m>\u001b[39m \u001b[39m1\u001b[39m:\n\u001b[1;32m   3504\u001b[0m     \u001b[39mreturn\u001b[39;00m \u001b[39mself\u001b[39m\u001b[39m.\u001b[39m_getitem_multilevel(key)\n\u001b[0;32m-> 3505\u001b[0m indexer \u001b[39m=\u001b[39m \u001b[39mself\u001b[39;49m\u001b[39m.\u001b[39;49mcolumns\u001b[39m.\u001b[39;49mget_loc(key)\n\u001b[1;32m   3506\u001b[0m \u001b[39mif\u001b[39;00m is_integer(indexer):\n\u001b[1;32m   3507\u001b[0m     indexer \u001b[39m=\u001b[39m [indexer]\n",
      "File \u001b[0;32m~/opt/anaconda3/lib/python3.9/site-packages/pandas/core/indexes/base.py:3623\u001b[0m, in \u001b[0;36mIndex.get_loc\u001b[0;34m(self, key, method, tolerance)\u001b[0m\n\u001b[1;32m   3621\u001b[0m     \u001b[39mreturn\u001b[39;00m \u001b[39mself\u001b[39m\u001b[39m.\u001b[39m_engine\u001b[39m.\u001b[39mget_loc(casted_key)\n\u001b[1;32m   3622\u001b[0m \u001b[39mexcept\u001b[39;00m \u001b[39mKeyError\u001b[39;00m \u001b[39mas\u001b[39;00m err:\n\u001b[0;32m-> 3623\u001b[0m     \u001b[39mraise\u001b[39;00m \u001b[39mKeyError\u001b[39;00m(key) \u001b[39mfrom\u001b[39;00m \u001b[39merr\u001b[39;00m\n\u001b[1;32m   3624\u001b[0m \u001b[39mexcept\u001b[39;00m \u001b[39mTypeError\u001b[39;00m:\n\u001b[1;32m   3625\u001b[0m     \u001b[39m# If we have a listlike key, _check_indexing_error will raise\u001b[39;00m\n\u001b[1;32m   3626\u001b[0m     \u001b[39m#  InvalidIndexError. Otherwise we fall through and re-raise\u001b[39;00m\n\u001b[1;32m   3627\u001b[0m     \u001b[39m#  the TypeError.\u001b[39;00m\n\u001b[1;32m   3628\u001b[0m     \u001b[39mself\u001b[39m\u001b[39m.\u001b[39m_check_indexing_error(key)\n",
      "\u001b[0;31mKeyError\u001b[0m: 'nummonth'"
     ]
    }
   ],
   "source": [
    "SP_tbills['quarter_year'] = pd.to_datetime(SP_tbills['nummonth'].str.replace('m', ''), format='%Y%m').dt.to_period('Q').astype(str)\n",
    "SP_tbills['quarter_year'] = SP_tbills['quarter_year'].apply(lambda x: f\"Q{x.split('Q')[1]} {x.split('Q')[0]}\")\n",
    "# Rename the 'nummonth' column\n",
    "#SP_tbills.rename(columns={'nummonth': 'original_column'}, inplace=True)\n",
    "SP_tbills.drop(columns=['nummonth'], inplace=True)\n"
   ]
  }
 ],
 "metadata": {
  "kernelspec": {
   "display_name": "base",
   "language": "python",
   "name": "python3"
  },
  "language_info": {
   "codemirror_mode": {
    "name": "ipython",
    "version": 3
   },
   "file_extension": ".py",
   "mimetype": "text/x-python",
   "name": "python",
   "nbconvert_exporter": "python",
   "pygments_lexer": "ipython3",
   "version": "3.9.12"
  }
 },
 "nbformat": 4,
 "nbformat_minor": 2
}
